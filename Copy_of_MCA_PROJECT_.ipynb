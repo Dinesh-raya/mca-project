{
  "cells": [
    {
      "cell_type": "markdown",
      "id": "21194a4c",
      "metadata": {
        "id": "21194a4c",
        "papermill": {
          "duration": 0.008665,
          "end_time": "2023-04-05T14:55:20.206094",
          "exception": false,
          "start_time": "2023-04-05T14:55:20.197429",
          "status": "completed"
        },
        "tags": []
      },
      "source": [
        "## Installation and Setup"
      ]
    },
    {
      "cell_type": "code",
      "execution_count": null,
      "id": "89b35f46",
      "metadata": {
        "id": "89b35f46",
        "papermill": {
          "duration": 14.022228,
          "end_time": "2023-04-05T14:55:34.235791",
          "exception": false,
          "start_time": "2023-04-05T14:55:20.213563",
          "status": "completed"
        },
        "tags": []
      },
      "outputs": [],
      "source": [
        "!pip install ultralytics"
      ]
    },
    {
      "cell_type": "code",
      "execution_count": 5,
      "id": "00108a10",
      "metadata": {
        "id": "00108a10",
        "papermill": {
          "duration": 0.067928,
          "end_time": "2023-04-05T14:55:34.313052",
          "exception": false,
          "start_time": "2023-04-05T14:55:34.245124",
          "status": "completed"
        },
        "tags": []
      },
      "outputs": [],
      "source": [
        "import requests\n",
        "import zipfile\n",
        "import os\n",
        "import glob\n",
        "import cv2\n",
        "import matplotlib.pyplot as plt\n",
        "import random\n",
        "import numpy as np"
      ]
    },
    {
      "cell_type": "code",
      "source": [
        "from google.colab import drive\n",
        "drive.mount('/content/drive')"
      ],
      "metadata": {
        "id": "EN-ZPNfzUF3x"
      },
      "id": "EN-ZPNfzUF3x",
      "execution_count": null,
      "outputs": []
    },
    {
      "cell_type": "code",
      "source": [
        "!unzip \"/content/drive/My Drive/test/runs.zip\" -d \"/content/\""
      ],
      "metadata": {
        "id": "IxItDPzBX14F"
      },
      "id": "IxItDPzBX14F",
      "execution_count": null,
      "outputs": []
    },
    {
      "cell_type": "markdown",
      "id": "3d48b8be",
      "metadata": {
        "id": "3d48b8be",
        "papermill": {
          "duration": 0.00871,
          "end_time": "2023-04-05T14:55:34.330730",
          "exception": false,
          "start_time": "2023-04-05T14:55:34.322020",
          "status": "completed"
        },
        "tags": []
      },
      "source": [
        "## Download the Dataset\n"
      ]
    },
    {
      "cell_type": "code",
      "execution_count": 6,
      "id": "1f87cb2b",
      "metadata": {
        "id": "1f87cb2b",
        "papermill": {
          "duration": 0.018671,
          "end_time": "2023-04-05T14:55:34.358270",
          "exception": false,
          "start_time": "2023-04-05T14:55:34.339599",
          "status": "completed"
        },
        "tags": []
      },
      "outputs": [],
      "source": [
        "def download_file(url, save_name):\n",
        "    url = url\n",
        "    if not os.path.exists(save_name):\n",
        "        file = requests.get(url)\n",
        "        open(save_name, 'wb').write(file.content)"
      ]
    },
    {
      "cell_type": "code",
      "execution_count": 7,
      "id": "41d2a59c",
      "metadata": {
        "id": "41d2a59c",
        "papermill": {
          "duration": 0.016803,
          "end_time": "2023-04-05T14:55:34.383784",
          "exception": false,
          "start_time": "2023-04-05T14:55:34.366981",
          "status": "completed"
        },
        "tags": []
      },
      "outputs": [],
      "source": [
        "def unzip(zip_file=None):\n",
        "    try:\n",
        "        with zipfile.ZipFile(zip_file) as z:\n",
        "            z.extractall(\"./\")\n",
        "            print(\"Extracted all\")\n",
        "    except:\n",
        "        print(\"Invalid file\")"
      ]
    },
    {
      "cell_type": "code",
      "execution_count": null,
      "id": "e8396b4f",
      "metadata": {
        "id": "e8396b4f",
        "papermill": {
          "duration": 10.975212,
          "end_time": "2023-04-05T14:55:45.367645",
          "exception": false,
          "start_time": "2023-04-05T14:55:34.392433",
          "status": "completed"
        },
        "tags": []
      },
      "outputs": [],
      "source": [
        "download_file(\n",
        "    'https://www.dropbox.com/s/ievh0sesad015z0/trash_inst_material.zip?dl=1',\n",
        "    'trash_inst_material.zip'\n",
        ")\n",
        "\n",
        "unzip(zip_file='trash_inst_material.zip')"
      ]
    },
    {
      "cell_type": "code",
      "execution_count": null,
      "id": "0b00a4a1",
      "metadata": {
        "id": "0b00a4a1",
        "papermill": {
          "duration": 0.016747,
          "end_time": "2023-04-05T14:55:45.583334",
          "exception": false,
          "start_time": "2023-04-05T14:55:45.566587",
          "status": "completed"
        },
        "tags": []
      },
      "outputs": [],
      "source": [
        "cwd = os.getcwd()\n",
        "print(cwd)"
      ]
    },
    {
      "cell_type": "code",
      "execution_count": null,
      "id": "5a4c12a4",
      "metadata": {
        "id": "5a4c12a4",
        "papermill": {
          "duration": 0.035527,
          "end_time": "2023-04-05T14:55:45.627619",
          "exception": false,
          "start_time": "2023-04-05T14:55:45.592092",
          "status": "completed"
        },
        "tags": []
      },
      "outputs": [],
      "source": [
        "import yaml\n",
        "\n",
        "attr = {\n",
        "    'path': cwd+'/trash_inst_material',\n",
        "    'train': 'train/images',\n",
        "    'val': 'val/images',\n",
        "\n",
        "    'names': {\n",
        "        0: 'rov',\n",
        "        1: 'plant',\n",
        "        2: 'animal_fish',\n",
        "        3: 'animal_starfish',\n",
        "        4: 'animal_shells',\n",
        "        5: 'animal_crab',\n",
        "        6: 'animal_eel',\n",
        "        7: 'animal_etc',\n",
        "        8: 'trash_etc',\n",
        "        9: 'trash_fabric',\n",
        "        10: 'trash_fishing_gear',\n",
        "        11: 'trash_metal',\n",
        "        12: 'trash_paper',\n",
        "        13: 'trash_plastic',\n",
        "        14: 'trash_rubber',\n",
        "        15: 'trash_wood',\n",
        "    }\n",
        "}"
      ]
    },
    {
      "cell_type": "code",
      "execution_count": null,
      "id": "22aa43b7",
      "metadata": {
        "id": "22aa43b7",
        "papermill": {
          "duration": 0.018075,
          "end_time": "2023-04-05T14:55:45.654563",
          "exception": false,
          "start_time": "2023-04-05T14:55:45.636488",
          "status": "completed"
        },
        "tags": []
      },
      "outputs": [],
      "source": [
        "with open('trashcan_inst_material.yaml', 'w') as f:\n",
        "    yaml.dump(attr, f)"
      ]
    },
    {
      "cell_type": "code",
      "source": [
        "# Download the inference data.\n",
        "download_file(\n",
        "    'https://www.dropbox.com/s/smdsotzz5al3bi2/trash_segment_inference_data.zip?dl=1',\n",
        "    'trash_segment_inference_data.zip'\n",
        ")\n",
        "\n",
        "unzip(zip_file='trash_segment_inference_data.zip')"
      ],
      "metadata": {
        "id": "fen4J5xZBd7W"
      },
      "id": "fen4J5xZBd7W",
      "execution_count": null,
      "outputs": []
    },
    {
      "cell_type": "markdown",
      "source": [
        "##YOLOv8 Detection Training\n",
        "\n",
        "\n"
      ],
      "metadata": {
        "id": "UkslDV0A_kD0"
      },
      "id": "UkslDV0A_kD0"
    },
    {
      "cell_type": "markdown",
      "source": [
        "###yoloV8 nano"
      ],
      "metadata": {
        "id": "TkufZyESAYLN"
      },
      "id": "TkufZyESAYLN"
    },
    {
      "cell_type": "code",
      "source": [
        "EPOCHS = 10\n",
        "!yolo \\\n",
        "task=detect \\\n",
        "mode=train \\\n",
        "model=yolov8n.pt \\\n",
        "imgsz=640 \\\n",
        "data=trashcan_inst_material.yaml \\\n",
        "epochs={EPOCHS} \\\n",
        "batch=16 \\\n",
        "name=yolov8n-detect \\\n",
        "exist_ok=True \\\n",
        "amp=False"
      ],
      "metadata": {
        "id": "aR5WZWTwA5B7"
      },
      "id": "aR5WZWTwA5B7",
      "execution_count": null,
      "outputs": []
    },
    {
      "cell_type": "markdown",
      "source": [
        "##Yolov8 Medium detect model"
      ],
      "metadata": {
        "id": "fKdIw40Atd6i"
      },
      "id": "fKdIw40Atd6i"
    },
    {
      "cell_type": "code",
      "source": [
        "EPOCHS = 10\n",
        "!yolo \\\n",
        "task=detect \\\n",
        "mode=train \\\n",
        "model=yolov8m.pt \\\n",
        "imgsz=640 \\\n",
        "data=trashcan_inst_material.yaml \\\n",
        "epochs={EPOCHS} \\\n",
        "batch=16 \\\n",
        "name=yolov8m-detect \\\n",
        "exist_ok=True \\\n",
        "amp=False"
      ],
      "metadata": {
        "id": "d6qG3VQ-tN1h"
      },
      "id": "d6qG3VQ-tN1h",
      "execution_count": null,
      "outputs": []
    },
    {
      "cell_type": "markdown",
      "source": [
        "##Plotting and prediction"
      ],
      "metadata": {
        "id": "w8FBoDbQ1u1T"
      },
      "id": "w8FBoDbQ1u1T"
    },
    {
      "cell_type": "code",
      "source": [
        "# Plot and visualize images in a 2x2 grid.\n",
        "def visualize(result_dir):\n",
        "    \"\"\"\n",
        "    Function accepts a list of images and plots\n",
        "    them in either a 1x1 grid or 2x2 grid.\n",
        "    \"\"\"\n",
        "    image_names = glob.glob(os.path.join(result_dir, '*.jpg'))\n",
        "    if len(image_names) < 4:\n",
        "        plt.figure(figsize=(10, 7))\n",
        "        for i, image_name in enumerate(image_names):\n",
        "            image = plt.imread(image_name)\n",
        "            plt.subplot(1, 1, i+1)\n",
        "            plt.imshow(image)\n",
        "            plt.axis('off')\n",
        "            break\n",
        "    if len(image_names) >= 4:\n",
        "        plt.figure(figsize=(15, 12))\n",
        "        for i, image_name in enumerate(image_names):\n",
        "            image = plt.imread(image_name)\n",
        "            plt.subplot(2, 2, i+1)\n",
        "            plt.imshow(image)\n",
        "            plt.axis('off')\n",
        "            if i == 3:\n",
        "                break\n",
        "    plt.tight_layout()\n",
        "    plt.show()"
      ],
      "metadata": {
        "id": "8BhCuTZwBd0S"
      },
      "id": "8BhCuTZwBd0S",
      "execution_count": null,
      "outputs": []
    },
    {
      "cell_type": "code",
      "source": [
        "!yolo predict \\\n",
        "model='runs/detect/yolov8m-detect/weights/best.pt' \\\n",
        "source='trash_inst_material/val/images/' \\\n",
        "name='yolov8m_detect_predict' \\\n",
        "exist_ok=True \\\n",
        "save=True"
      ],
      "metadata": {
        "id": "5pnA46ThBdvf"
      },
      "id": "5pnA46ThBdvf",
      "execution_count": null,
      "outputs": []
    },
    {
      "cell_type": "code",
      "source": [
        "visualize('runs/detect/yolov8m_detect_predict')"
      ],
      "metadata": {
        "id": "74Ygi6XnBdqG"
      },
      "id": "74Ygi6XnBdqG",
      "execution_count": null,
      "outputs": []
    },
    {
      "cell_type": "code",
      "source": [
        "!yolo predict \\\n",
        "model='runs/detect/yolov8m-detect/weights/best.pt' \\\n",
        "source='trash_segment_inference_data/manythings.mp4' \\\n",
        "name='yolov8m_detect_predict_videos1' \\\n",
        "exist_ok=True \\\n",
        "save=True"
      ],
      "metadata": {
        "id": "JPDNj6t0BdcK"
      },
      "id": "JPDNj6t0BdcK",
      "execution_count": null,
      "outputs": []
    },
    {
      "cell_type": "markdown",
      "id": "0f04341d",
      "metadata": {
        "id": "0f04341d",
        "papermill": {
          "duration": 0.009552,
          "end_time": "2023-04-05T14:55:56.279951",
          "exception": false,
          "start_time": "2023-04-05T14:55:56.270399",
          "status": "completed"
        },
        "tags": []
      },
      "source": [
        "### YOLOv8 Nano Segmentation Model Training"
      ]
    },
    {
      "cell_type": "code",
      "execution_count": null,
      "id": "79f77f87",
      "metadata": {
        "id": "79f77f87",
        "papermill": {
          "duration": 6108.392488,
          "end_time": "2023-04-05T16:37:44.681542",
          "exception": false,
          "start_time": "2023-04-05T14:55:56.289054",
          "status": "completed"
        },
        "tags": []
      },
      "outputs": [],
      "source": [
        "EPOCHS = 10\n",
        "!yolo \\\n",
        "task=segment \\\n",
        "mode=train \\\n",
        "model=yolov8n-seg.pt \\\n",
        "imgsz=640 \\\n",
        "data=trashcan_inst_material.yaml \\\n",
        "epochs={EPOCHS} \\\n",
        "batch=16 \\\n",
        "name=yolov8n-seg \\\n",
        "exist_ok=True \\\n",
        "amp=False"
      ]
    },
    {
      "cell_type": "markdown",
      "id": "1c8176c4",
      "metadata": {
        "id": "1c8176c4",
        "papermill": {
          "duration": 1.479406,
          "end_time": "2023-04-05T16:37:47.558215",
          "exception": false,
          "start_time": "2023-04-05T16:37:46.078809",
          "status": "completed"
        },
        "tags": []
      },
      "source": [
        "The above are the results on the validation set. Let's run evaluation of the test set and check the mAP values. We need to use the `val` mode for this."
      ]
    },
    {
      "cell_type": "markdown",
      "id": "b2ce80d8",
      "metadata": {
        "id": "b2ce80d8",
        "papermill": {
          "duration": 1.474326,
          "end_time": "2023-04-05T16:37:50.485241",
          "exception": false,
          "start_time": "2023-04-05T16:37:49.010915",
          "status": "completed"
        },
        "tags": []
      },
      "source": [
        "With the Small model, we get an mAP of 51.7 at IoU 0.50-0.95."
      ]
    },
    {
      "cell_type": "markdown",
      "id": "40746e2e",
      "metadata": {
        "id": "40746e2e",
        "papermill": {
          "duration": 2.860637,
          "end_time": "2023-04-05T18:44:31.851711",
          "exception": false,
          "start_time": "2023-04-05T18:44:28.991074",
          "status": "completed"
        },
        "tags": []
      },
      "source": [
        "### YOLOv8m Training"
      ]
    },
    {
      "cell_type": "code",
      "execution_count": null,
      "id": "bc82d3f7",
      "metadata": {
        "id": "bc82d3f7",
        "papermill": {
          "duration": 15209.349365,
          "end_time": "2023-04-05T22:58:04.552225",
          "exception": false,
          "start_time": "2023-04-05T18:44:35.202860",
          "status": "completed"
        },
        "tags": []
      },
      "outputs": [],
      "source": [
        "EPOCHS = 10\n",
        "!yolo \\\n",
        "task=segment \\\n",
        "mode=train \\\n",
        "model=yolov8m-seg.pt \\\n",
        "imgsz=640 \\\n",
        "data=trashcan_inst_material.yaml \\\n",
        "epochs={EPOCHS} \\\n",
        "batch=16 \\\n",
        "name=yolov8m-seg \\\n",
        "exist_ok=True \\\n",
        "amp=False"
      ]
    },
    {
      "cell_type": "markdown",
      "id": "a2623f23",
      "metadata": {
        "id": "a2623f23",
        "papermill": {
          "duration": 4.31202,
          "end_time": "2023-04-05T22:58:21.848598",
          "exception": false,
          "start_time": "2023-04-05T22:58:17.536578",
          "status": "completed"
        },
        "tags": []
      },
      "source": [
        "We get the best results using the YOLOv8m model. We have a box mAP of almost 50 and mask mAP of 37.8 which is pretty good."
      ]
    },
    {
      "cell_type": "code",
      "execution_count": null,
      "id": "595004b9",
      "metadata": {
        "id": "595004b9",
        "papermill": {
          "duration": 4.972918,
          "end_time": "2023-04-05T22:59:06.811176",
          "exception": false,
          "start_time": "2023-04-05T22:59:01.838258",
          "status": "completed"
        },
        "tags": []
      },
      "outputs": [],
      "source": [
        "# Plot and visualize images in a 2x2 grid.\n",
        "def visualize(result_dir):\n",
        "    \"\"\"\n",
        "    Function accepts a list of images and plots\n",
        "    them in either a 1x1 grid or 2x2 grid.\n",
        "    \"\"\"\n",
        "    image_names = glob.glob(os.path.join(result_dir, '*.jpg'))\n",
        "    if len(image_names) < 4:\n",
        "        plt.figure(figsize=(10, 7))\n",
        "        for i, image_name in enumerate(image_names):\n",
        "            image = plt.imread(image_name)\n",
        "            plt.subplot(1, 1, i+1)\n",
        "            plt.imshow(image)\n",
        "            plt.axis('off')\n",
        "            break\n",
        "    if len(image_names) >= 4:\n",
        "        plt.figure(figsize=(15, 12))\n",
        "        for i, image_name in enumerate(image_names):\n",
        "            image = plt.imread(image_name)\n",
        "            plt.subplot(2, 2, i+1)\n",
        "            plt.imshow(image)\n",
        "            plt.axis('off')\n",
        "            if i == 3:\n",
        "                break\n",
        "    plt.tight_layout()\n",
        "    plt.show()"
      ]
    },
    {
      "cell_type": "code",
      "execution_count": null,
      "id": "49808355",
      "metadata": {
        "id": "49808355",
        "papermill": {
          "duration": 4.282793,
          "end_time": "2023-04-05T22:59:15.293396",
          "exception": false,
          "start_time": "2023-04-05T22:59:11.010603",
          "status": "completed"
        },
        "tags": []
      },
      "outputs": [],
      "source": [
        "!yolo predict \\\n",
        "model='runs/segment/yolov8m-seg/weights/best.pt' \\\n",
        "source='trash_inst_material/val/images/' \\\n",
        "name='yolov8m_seg_predict' \\\n",
        "exist_ok=True \\\n",
        "save=True"
      ]
    },
    {
      "cell_type": "code",
      "execution_count": null,
      "id": "cae3295b",
      "metadata": {
        "id": "cae3295b",
        "papermill": {
          "duration": 4.203137,
          "end_time": "2023-04-05T22:59:23.789604",
          "exception": false,
          "start_time": "2023-04-05T22:59:19.586467",
          "status": "completed"
        },
        "tags": []
      },
      "outputs": [],
      "source": [
        "visualize('runs/segment/yolov8m_predict')"
      ]
    },
    {
      "cell_type": "markdown",
      "id": "72ccb735",
      "metadata": {
        "id": "72ccb735",
        "papermill": {
          "duration": 4.206707,
          "end_time": "2023-04-05T22:59:32.268254",
          "exception": false,
          "start_time": "2023-04-05T22:59:28.061547",
          "status": "completed"
        },
        "tags": []
      },
      "source": [
        "## Inference on Videos\n",
        "\n",
        "For one final testing, let's run inference on videos."
      ]
    },
    {
      "cell_type": "code",
      "execution_count": null,
      "id": "2be3ec0d",
      "metadata": {
        "id": "2be3ec0d",
        "papermill": {
          "duration": 4.387314,
          "end_time": "2023-04-05T22:59:41.358824",
          "exception": false,
          "start_time": "2023-04-05T22:59:36.971510",
          "status": "completed"
        },
        "tags": []
      },
      "outputs": [],
      "source": [
        "!yolo predict \\\n",
        "model='runs/segment/yolov8m-seg/weights/best.pt' \\\n",
        "source='trash_segment_inference_data/manythings.mp4' \\\n",
        "name='yolov8m_predict_videos1' \\\n",
        "exist_ok=True \\\n",
        "save=True"
      ]
    },
    {
      "cell_type": "markdown",
      "id": "1f07b9e2",
      "metadata": {
        "id": "1f07b9e2",
        "papermill": {
          "duration": 4.394489,
          "end_time": "2023-04-05T22:59:49.955784",
          "exception": false,
          "start_time": "2023-04-05T22:59:45.561295",
          "status": "completed"
        },
        "tags": []
      },
      "source": [
        "Even the Extra Large model, is running at more than 28 FPS on the Tesla T4 GPU which is more than real-time. This is really impressive."
      ]
    }
  ],
  "metadata": {
    "kernelspec": {
      "display_name": "Python 3",
      "name": "python3"
    },
    "language_info": {
      "codemirror_mode": {
        "name": "ipython",
        "version": 3
      },
      "file_extension": ".py",
      "mimetype": "text/x-python",
      "name": "python",
      "nbconvert_exporter": "python",
      "pygments_lexer": "ipython3",
      "version": "3.11.4"
    },
    "papermill": {
      "default_parameters": {},
      "duration": 29120.669632,
      "end_time": "2023-04-05T23:00:31.839734",
      "environment_variables": {},
      "exception": null,
      "input_path": "__notebook__.ipynb",
      "output_path": "__notebook__.ipynb",
      "parameters": {},
      "start_time": "2023-04-05T14:55:11.170102",
      "version": "2.4.0"
    },
    "colab": {
      "provenance": [],
      "gpuType": "T4"
    },
    "accelerator": "GPU"
  },
  "nbformat": 4,
  "nbformat_minor": 5
}